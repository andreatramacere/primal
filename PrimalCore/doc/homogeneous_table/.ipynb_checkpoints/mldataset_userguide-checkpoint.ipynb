{
 "cells": [
  {
   "cell_type": "raw",
   "metadata": {},
   "source": [
    ".. _MLDataSet_user_guide:\n"
   ]
  },
  {
   "cell_type": "markdown",
   "metadata": {},
   "source": [
    "# Example of building a MLDataSet\n"
   ]
  },
  {
   "cell_type": "raw",
   "metadata": {},
   "source": [
    "We provide a simple workflow to build a fetures dataset using the class :class:`dataset.MLDataSet` (see for full API the module :mod:`~PrimalCore.homogeneous_table.dataset.MLDataSet`)\n",
    "\n",
    ".. currentmodule:: PrimalCore.homogeneous_table.dataset\n",
    "\n",
    ".. contents:: :local:\n",
    "\n",
    ".. toctree::\n"
   ]
  },
  {
   "cell_type": "markdown",
   "metadata": {},
   "source": [
    "## Building a Features MLDataSet from a Table"
   ]
  },
  {
   "cell_type": "raw",
   "metadata": {},
   "source": [
    "we follow the approach in `Table_user_guide`_ to build a catalog using the :class:`PrimalCore.heterogeneous_table.table.Table`"
   ]
  },
  {
   "cell_type": "code",
   "execution_count": 1,
   "metadata": {
    "collapsed": false
   },
   "outputs": [],
   "source": [
    "from PrimalCore.heterogeneous_table.table import Table\n",
    "from ElementsKernel.Path import getPathFromEnvVariable"
   ]
  },
  {
   "cell_type": "code",
   "execution_count": 2,
   "metadata": {
    "collapsed": false
   },
   "outputs": [],
   "source": [
    "ph_catalog=getPathFromEnvVariable('PrimalCore/test_table.fits','ELEMENTS_AUX_PATH')"
   ]
  },
  {
   "cell_type": "code",
   "execution_count": 3,
   "metadata": {
    "collapsed": false
   },
   "outputs": [
    {
     "name": "stdout",
     "output_type": "stream",
     "text": [
      "| input data built\n",
      "| data Rows,Cols 1000 124\n"
     ]
    }
   ],
   "source": [
    "catalog=Table.from_fits_file(ph_catalog,fits_ext=0)"
   ]
  },
  {
   "cell_type": "code",
   "execution_count": 4,
   "metadata": {
    "collapsed": false,
    "scrolled": false
   },
   "outputs": [],
   "source": [
    "catalog.keep_columns(['FLUX*','reliable_S15','STAR','AGN','MASKED','FLAG_PHOT'],regex=True)"
   ]
  },
  {
   "cell_type": "raw",
   "metadata": {},
   "source": [
    "We  now build a Features dataset using the :class:`dataset.MLDataSet` class from the :mod:`PrimalCore.homogeneous_table.dataset` python module."
   ]
  },
  {
   "cell_type": "markdown",
   "metadata": {},
   "source": [
    "First we import the classes and the functions we need"
   ]
  },
  {
   "cell_type": "code",
   "execution_count": 5,
   "metadata": {
    "collapsed": false
   },
   "outputs": [],
   "source": [
    "from PrimalCore.homogeneous_table.dataset import MLDataSet"
   ]
  },
  {
   "cell_type": "raw",
   "metadata": {},
   "source": [
    ".. note::\n",
    "   \n",
    "   It is worth noting that  for the :class:`MLDataSet` class, most of the functions to modify the dataset \n",
    "   content have been implemented as functions in separate python modules. This is made on purpose, and shows a \n",
    "   different approach compared to that used for the :class:`PrimalCore.heterogeneous_table.table.Table` class, where \n",
    "   the functions are implemented as methods of the same class."
   ]
  },
  {
   "cell_type": "raw",
   "metadata": {},
   "source": [
    "To build a MLDataSet directly from a Table  we can use the classmethod :func:`MLDataSet.new_from_table`"
   ]
  },
  {
   "cell_type": "code",
   "execution_count": 6,
   "metadata": {
    "collapsed": false
   },
   "outputs": [
    {
     "name": "stdout",
     "output_type": "stream",
     "text": [
      "| building features\n",
      "| features built\n",
      "| Rows,Cols 1000 50\n"
     ]
    }
   ],
   "source": [
    "dataset=MLDataSet.new_from_table(catalog)"
   ]
  },
  {
   "cell_type": "code",
   "execution_count": 7,
   "metadata": {
    "collapsed": false
   },
   "outputs": [
    {
     "name": "stdout",
     "output_type": "stream",
     "text": [
      "['FLUX_G_1', 'FLUX_G_2', 'FLUX_G_3', 'FLUX_R_1', 'FLUX_R_2', 'FLUX_R_3', 'FLUX_I_1', 'FLUX_I_2', 'FLUX_I_3', 'FLUX_VIS', 'FLUX_Z_1', 'FLUX_Z_2', 'FLUX_Z_3', 'FLUX_Y_1', 'FLUX_Y_2', 'FLUX_Y_3', 'FLUX_J_1', 'FLUX_J_2', 'FLUX_J_3', 'FLUX_H_1', 'FLUX_H_2', 'FLUX_H_3', 'FLUXERR_G_1', 'FLUXERR_G_2', 'FLUXERR_G_3', 'FLUXERR_R_1', 'FLUXERR_R_2', 'FLUXERR_R_3', 'FLUXERR_I_1', 'FLUXERR_I_2', 'FLUXERR_I_3', 'FLUXERR_VIS', 'FLUXERR_Z_1', 'FLUXERR_Z_2', 'FLUXERR_Z_3', 'FLUXERR_Y_1', 'FLUXERR_Y_2', 'FLUXERR_Y_3', 'FLUXERR_J_1', 'FLUXERR_J_2', 'FLUXERR_J_3', 'FLUXERR_H_1', 'FLUXERR_H_2', 'FLUXERR_H_3', 'FLAG_PHOT', 'FLUX_RADIUS_DETECT', 'MASKED', 'reliable_S15', 'STAR', 'AGN']\n"
     ]
    }
   ],
   "source": [
    "print dataset.features_names"
   ]
  },
  {
   "cell_type": "raw",
   "metadata": {},
   "source": [
    ".. note::\n",
    "    as you can see, the **__original_entry_ID__** is not present among the features, indeed it is used only to track \n",
    "    the original catalog IDs, but it is present as separate member of the dataset (we print onlty the 10 first\n",
    "    elements)"
   ]
  },
  {
   "cell_type": "code",
   "execution_count": 8,
   "metadata": {
    "collapsed": false
   },
   "outputs": [
    {
     "name": "stdout",
     "output_type": "stream",
     "text": [
      "[1 2 3 4 5 6 7 8 9]\n"
     ]
    }
   ],
   "source": [
    "print dataset.features_original_entry_ID[1:10]"
   ]
  },
  {
   "cell_type": "markdown",
   "metadata": {},
   "source": [
    "and in this way it **safely** can not be used as a feature.\n"
   ]
  },
  {
   "cell_type": "markdown",
   "metadata": {},
   "source": [
    "## Building a Features MLDataSet from a FITS file"
   ]
  },
  {
   "cell_type": "raw",
   "metadata": {},
   "source": [
    "To build a MLDataSet directly from a FITS file we can use the classmethod :func:`MLDataSet.new_from_fits_file`"
   ]
  },
  {
   "cell_type": "code",
   "execution_count": 9,
   "metadata": {
    "collapsed": false
   },
   "outputs": [
    {
     "name": "stdout",
     "output_type": "stream",
     "text": [
      "| input data built\n",
      "| data Rows,Cols 1000 124\n",
      "| building features\n",
      "| features built\n",
      "| Rows,Cols 1000 50\n"
     ]
    }
   ],
   "source": [
    "dataset_from_file=MLDataSet.new_from_fits_file(ph_catalog,fits_ext=0,\\\n",
    "                                               use_col_names_list=['FLUX*','reliable_S15','STAR','AGN','MASKED','FLAG_PHOT'],\\\n",
    "                                               regex=True)"
   ]
  },
  {
   "cell_type": "code",
   "execution_count": 10,
   "metadata": {
    "collapsed": false
   },
   "outputs": [
    {
     "name": "stdout",
     "output_type": "stream",
     "text": [
      "['FLUX_G_1', 'FLUX_G_2', 'FLUX_G_3', 'FLUX_R_1', 'FLUX_R_2', 'FLUX_R_3', 'FLUX_I_1', 'FLUX_I_2', 'FLUX_I_3', 'FLUX_VIS', 'FLUX_Z_1', 'FLUX_Z_2', 'FLUX_Z_3', 'FLUX_Y_1', 'FLUX_Y_2', 'FLUX_Y_3', 'FLUX_J_1', 'FLUX_J_2', 'FLUX_J_3', 'FLUX_H_1', 'FLUX_H_2', 'FLUX_H_3', 'FLUXERR_G_1', 'FLUXERR_G_2', 'FLUXERR_G_3', 'FLUXERR_R_1', 'FLUXERR_R_2', 'FLUXERR_R_3', 'FLUXERR_I_1', 'FLUXERR_I_2', 'FLUXERR_I_3', 'FLUXERR_VIS', 'FLUXERR_Z_1', 'FLUXERR_Z_2', 'FLUXERR_Z_3', 'FLUXERR_Y_1', 'FLUXERR_Y_2', 'FLUXERR_Y_3', 'FLUXERR_J_1', 'FLUXERR_J_2', 'FLUXERR_J_3', 'FLUXERR_H_1', 'FLUXERR_H_2', 'FLUXERR_H_3', 'FLUX_RADIUS_DETECT', 'reliable_S15', 'STAR', 'AGN', 'MASKED', 'FLAG_PHOT']\n"
     ]
    }
   ],
   "source": [
    "print dataset_from_file.features_names"
   ]
  },
  {
   "cell_type": "markdown",
   "metadata": {},
   "source": [
    "## Columns selection\n",
    "### using  `use_col_names_list` in the factories"
   ]
  },
  {
   "cell_type": "raw",
   "metadata": {},
   "source": [
    "Columns can be selected using the `use_col_names_list` parameter in the classmethod factories  :func:`MLDataSet.new_from_table` and :func:`MLDataSet.new_from_fits_file`"
   ]
  },
  {
   "cell_type": "code",
   "execution_count": 11,
   "metadata": {
    "collapsed": false
   },
   "outputs": [
    {
     "name": "stdout",
     "output_type": "stream",
     "text": [
      "| building features\n",
      "| features built\n",
      "| Rows,Cols 1000 50\n"
     ]
    }
   ],
   "source": [
    "dataset=MLDataSet.new_from_table(catalog,use_col_names_list=['FLUX*','reliable_S15','STAR','AGN','MASKED','FLAG_PHOT'],\\\n",
    "                                regex=True)"
   ]
  },
  {
   "cell_type": "code",
   "execution_count": 12,
   "metadata": {
    "collapsed": false
   },
   "outputs": [
    {
     "name": "stdout",
     "output_type": "stream",
     "text": [
      "['FLUX_G_1', 'FLUX_G_2', 'FLUX_G_3', 'FLUX_R_1', 'FLUX_R_2', 'FLUX_R_3', 'FLUX_I_1', 'FLUX_I_2', 'FLUX_I_3', 'FLUX_VIS', 'FLUX_Z_1', 'FLUX_Z_2', 'FLUX_Z_3', 'FLUX_Y_1', 'FLUX_Y_2', 'FLUX_Y_3', 'FLUX_J_1', 'FLUX_J_2', 'FLUX_J_3', 'FLUX_H_1', 'FLUX_H_2', 'FLUX_H_3', 'FLUXERR_G_1', 'FLUXERR_G_2', 'FLUXERR_G_3', 'FLUXERR_R_1', 'FLUXERR_R_2', 'FLUXERR_R_3', 'FLUXERR_I_1', 'FLUXERR_I_2', 'FLUXERR_I_3', 'FLUXERR_VIS', 'FLUXERR_Z_1', 'FLUXERR_Z_2', 'FLUXERR_Z_3', 'FLUXERR_Y_1', 'FLUXERR_Y_2', 'FLUXERR_Y_3', 'FLUXERR_J_1', 'FLUXERR_J_2', 'FLUXERR_J_3', 'FLUXERR_H_1', 'FLUXERR_H_2', 'FLUXERR_H_3', 'FLUX_RADIUS_DETECT', 'reliable_S15', 'STAR', 'AGN', 'MASKED', 'FLAG_PHOT']\n"
     ]
    }
   ],
   "source": [
    "print dataset.features_names"
   ]
  },
  {
   "cell_type": "markdown",
   "metadata": {},
   "source": [
    "###  using dataset_handler fucntions"
   ]
  },
  {
   "cell_type": "raw",
   "metadata": {},
   "source": [
    "Or, columns can be selected using specific selection functions, from the :mod:`~PrimalCore.homogeneous_table.dataset_handler` module"
   ]
  },
  {
   "cell_type": "code",
   "execution_count": 13,
   "metadata": {
    "collapsed": true
   },
   "outputs": [],
   "source": [
    "from PrimalCore.homogeneous_table.dataset_handler import drop_features\n",
    "from PrimalCore.homogeneous_table.dataset_handler import keep_features"
   ]
  },
  {
   "cell_type": "raw",
   "metadata": {},
   "source": [
    "for example we decide to drop columns with names matching expression  \"FLUX\\*1\\*\" by  using the :func:`~PrimalCore.homogeneous_table.dataset_handler.drop_features`"
   ]
  },
  {
   "cell_type": "code",
   "execution_count": 14,
   "metadata": {
    "collapsed": false,
    "scrolled": false
   },
   "outputs": [
    {
     "name": "stdout",
     "output_type": "stream",
     "text": [
      "ciccio ['FLUX*1*']\n",
      "| features initial Rows,Cols= 1000 50\n",
      "| removing features ['FLUX_G_1', 'FLUX_R_1', 'FLUX_I_1', 'FLUX_Z_1', 'FLUX_Y_1', 'FLUX_J_1', 'FLUX_H_1', 'FLUXERR_G_1', 'FLUXERR_R_1', 'FLUXERR_I_1', 'FLUXERR_Z_1', 'FLUXERR_Y_1', 'FLUXERR_J_1', 'FLUXERR_H_1']\n",
      "| features final Rows,Cols= 1000 36\n",
      "\n"
     ]
    },
    {
     "data": {
      "text/plain": [
       "['FLUX_G_2',\n",
       " 'FLUX_G_3',\n",
       " 'FLUX_R_2',\n",
       " 'FLUX_R_3',\n",
       " 'FLUX_I_2',\n",
       " 'FLUX_I_3',\n",
       " 'FLUX_VIS',\n",
       " 'FLUX_Z_2',\n",
       " 'FLUX_Z_3',\n",
       " 'FLUX_Y_2',\n",
       " 'FLUX_Y_3',\n",
       " 'FLUX_J_2',\n",
       " 'FLUX_J_3',\n",
       " 'FLUX_H_2',\n",
       " 'FLUX_H_3',\n",
       " 'FLUXERR_G_2',\n",
       " 'FLUXERR_G_3',\n",
       " 'FLUXERR_R_2',\n",
       " 'FLUXERR_R_3',\n",
       " 'FLUXERR_I_2',\n",
       " 'FLUXERR_I_3',\n",
       " 'FLUXERR_VIS',\n",
       " 'FLUXERR_Z_2',\n",
       " 'FLUXERR_Z_3',\n",
       " 'FLUXERR_Y_2',\n",
       " 'FLUXERR_Y_3',\n",
       " 'FLUXERR_J_2',\n",
       " 'FLUXERR_J_3',\n",
       " 'FLUXERR_H_2',\n",
       " 'FLUXERR_H_3',\n",
       " 'FLUX_RADIUS_DETECT',\n",
       " 'reliable_S15',\n",
       " 'STAR',\n",
       " 'AGN',\n",
       " 'MASKED',\n",
       " 'FLAG_PHOT']"
      ]
     },
     "execution_count": 14,
     "metadata": {},
     "output_type": "execute_result"
    }
   ],
   "source": [
    "drop_features(dataset,['FLUX*1*'])\n",
    "dataset.features_names"
   ]
  },
  {
   "cell_type": "raw",
   "metadata": {},
   "source": [
    "Furtger we can decide to keep only columns with names matching the regular expression \"FLUX\\*2\\*\" by using the  :func:`~PrimalCore.homogeneous_table.dataset_handler.keep_features`  function from the :mod:`PrimalCore.homogeneous_table.dataset_handler` package"
   ]
  },
  {
   "cell_type": "code",
   "execution_count": 15,
   "metadata": {
    "collapsed": false
   },
   "outputs": [
    {
     "name": "stdout",
     "output_type": "stream",
     "text": [
      "ciccio ['FLUX*2*']\n",
      "| features initial Rows,Cols= 1000 36\n",
      "| removing features ['FLUX_G_3', 'FLUX_R_3', 'FLUX_I_3', 'FLUX_VIS', 'FLUX_Z_3', 'FLUX_Y_3', 'FLUX_J_3', 'FLUX_H_3', 'FLUXERR_G_3', 'FLUXERR_R_3', 'FLUXERR_I_3', 'FLUXERR_VIS', 'FLUXERR_Z_3', 'FLUXERR_Y_3', 'FLUXERR_J_3', 'FLUXERR_H_3', 'FLUX_RADIUS_DETECT', 'reliable_S15', 'STAR', 'AGN', 'MASKED', 'FLAG_PHOT']\n",
      "| features final Rows,Cols= 1000 14\n",
      "\n",
      "['FLUX_G_2', 'FLUX_R_2', 'FLUX_I_2', 'FLUX_Z_2', 'FLUX_Y_2', 'FLUX_J_2', 'FLUX_H_2', 'FLUXERR_G_2', 'FLUXERR_R_2', 'FLUXERR_I_2', 'FLUXERR_Z_2', 'FLUXERR_Y_2', 'FLUXERR_J_2', 'FLUXERR_H_2']\n"
     ]
    }
   ],
   "source": [
    "keep_features(dataset,['FLUX*2*'],regex=True)\n",
    "print dataset.features_names"
   ]
  },
  {
   "cell_type": "markdown",
   "metadata": {},
   "source": [
    "## Adding features"
   ]
  },
  {
   "cell_type": "raw",
   "metadata": {},
   "source": [
    "And finally we can add a new feature with the :func:`~PrimalCore.homogeneous_table.dataset_handler.add_features` function\n",
    "We can add a single feature:"
   ]
  },
  {
   "cell_type": "code",
   "execution_count": 16,
   "metadata": {
    "collapsed": false
   },
   "outputs": [
    {
     "name": "stdout",
     "output_type": "stream",
     "text": [
      "ciccio [  9.80100000e+03   9.80100000e+03   9.80100000e+03   9.80100000e+03\n",
      "   9.80100000e+03   9.80100000e+03   9.80100000e+03   9.80100000e+03\n",
      "   9.80100000e+03   9.80100000e+03   9.80100000e+03   9.80100000e+03\n",
      "   9.80100000e+03   9.80100000e+03   9.80100000e+03   9.80100000e+03\n",
      "   9.80100000e+03   9.80100000e+03   9.80100000e+03   9.80100000e+03\n",
      "   9.80100000e+03   9.80100000e+03   9.80100000e+03   9.80100000e+03\n",
      "   9.80100000e+03   9.80100000e+03   9.80100000e+03   9.80100000e+03\n",
      "   9.80100000e+03   9.80100000e+03   9.80100000e+03   1.45892057e-01\n",
      "   9.80100000e+03   9.80100000e+03   9.80100000e+03   1.40106596e-02\n",
      "   9.80100000e+03   1.97856270e-02   3.17607513e-02   7.53639866e-02\n",
      "   1.02502648e-01   9.80100000e+03   9.80100000e+03   9.80100000e+03\n",
      "   1.46255425e-01   9.80100000e+03   9.80100000e+03   5.98178287e-02\n",
      "   7.20091657e-02   2.24579483e-02   9.80100000e+03   1.07898643e-01\n",
      "   1.27732360e-02   8.57474692e-02   9.80100000e+03   9.80100000e+03\n",
      "   9.80100000e+03   3.02500854e-03   9.80100000e+03   6.49216376e-02\n",
      "   1.41566901e-01   9.80100000e+03   9.80100000e+03   4.69676759e-02\n",
      "   9.80100000e+03   9.80100000e+03   9.30302056e-03   9.80100000e+03\n",
      "   9.80100000e+03   9.80100000e+03   5.57728787e-02   9.80100000e+03\n",
      "   9.80100000e+03   9.80100000e+03   1.66160635e-01   9.80100000e+03\n",
      "   8.12153764e-02   9.80100000e+03   9.80100000e+03   9.80100000e+03\n",
      "   8.57474692e-02   9.80100000e+03   8.78481868e-02   9.80100000e+03\n",
      "   9.80100000e+03   9.76902905e-02   2.51277183e-01   4.43373057e-02\n",
      "   9.32837831e-02   8.57474692e-02   7.08656770e-02   3.26737011e-02\n",
      "   7.66746401e-02   9.80100000e+03   1.26941364e-01   2.49678943e-02\n",
      "   6.89802003e-02   7.17542662e-02   9.80100000e+03   9.04026052e-02\n",
      "   9.80100000e+03   9.80100000e+03   9.80100000e+03   9.80100000e+03\n",
      "   9.80100000e+03   9.80100000e+03   9.80100000e+03   9.80100000e+03\n",
      "   2.65934531e-02   9.80100000e+03   1.10095795e-01   9.80100000e+03\n",
      "   9.80100000e+03   9.80100000e+03   9.80100000e+03   1.40139645e-01\n",
      "   4.51174152e-01   1.52501818e-01   1.12633943e-01   2.05143684e-02\n",
      "   7.49729938e-02   9.80100000e+03   1.05569126e-01   5.07282639e-02\n",
      "   2.65082488e-02   5.24231382e-02   9.80100000e+03   6.07515563e-02\n",
      "   9.80100000e+03   4.30752046e-02   9.80100000e+03   9.80100000e+03\n",
      "   9.80100000e+03   9.80100000e+03   9.80100000e+03   1.12315093e-01\n",
      "   7.01084357e-02   5.41348020e-02   9.80100000e+03   1.31383124e-01\n",
      "   4.10186182e-02   9.80100000e+03   9.80100000e+03   9.80100000e+03\n",
      "   1.03417846e-01   7.61490228e-02   1.21248157e-01   7.38061168e-02\n",
      "   9.38654421e-02   7.41940589e-02   1.12633943e-01   4.58412710e-02\n",
      "   3.42298936e-02   3.61017441e-02   9.80100000e+03   6.96058679e-02\n",
      "   9.80100000e+03   1.47286016e-02   9.80100000e+03   1.31210874e-01\n",
      "   1.82836215e-01   1.37920748e-02   9.80100000e+03   9.80100000e+03\n",
      "   9.80100000e+03   9.80100000e+03   9.80100000e+03   1.09308556e-01\n",
      "   9.80100000e+03   1.00383005e-01   2.77610527e-02   9.80100000e+03\n",
      "   9.80100000e+03   1.04183618e-01   6.61385115e-02   6.20472390e-02\n",
      "   7.65430663e-02   9.80100000e+03   1.02046575e-01   9.80100000e+03\n",
      "   5.99341492e-02   9.80100000e+03   1.25085151e-01   5.80865798e-02\n",
      "   1.41209409e-01   9.80100000e+03   6.68740593e-02   1.20917330e-01\n",
      "   9.80100000e+03   9.80100000e+03   5.11789411e-02   9.80100000e+03\n",
      "   9.80100000e+03   5.23796110e-02   8.79891386e-02   2.62072623e-02\n",
      "   9.80100000e+03   3.48749346e-02   7.75988202e-02   9.80100000e+03\n",
      "   1.10411482e-01   7.36770287e-02   9.80100000e+03   1.11419561e-02\n",
      "   3.76627713e-02   9.80100000e+03   2.40435367e-01   9.80100000e+03\n",
      "   9.80100000e+03   9.75417686e-04   2.57018156e-02   6.35961263e-02\n",
      "   9.80100000e+03   9.80100000e+03   1.35726075e-01   7.60179010e-02\n",
      "   5.45892253e-02   1.04490718e-01   9.80100000e+03   9.80100000e+03\n",
      "   9.80100000e+03   9.80100000e+03   3.88154097e-02   9.80100000e+03\n",
      "   6.44380517e-02   9.99316774e-02   1.26553134e-02   5.49675047e-02\n",
      "   9.80100000e+03   9.80100000e+03   9.80100000e+03   1.26772053e-01\n",
      "   5.05036727e-02   7.74664555e-02   9.80100000e+03   9.80100000e+03\n",
      "   9.18375448e-02   2.42520063e-02   7.24045650e-03   5.31110771e-02\n",
      "   9.80100000e+03   9.80100000e+03   1.11361254e-01   9.80100000e+03\n",
      "   9.80100000e+03   9.80100000e+03   9.80100000e+03   9.80100000e+03\n",
      "   9.80100000e+03   9.80100000e+03   4.28977987e-02   9.80100000e+03\n",
      "   9.80100000e+03   9.80100000e+03   9.80100000e+03   1.32503953e+00\n",
      "   1.30378474e-02   2.68187381e-02   2.87781594e-01   8.10799610e-02\n",
      "   9.80100000e+03   1.58690758e+00   9.80100000e+03   9.80100000e+03\n",
      "   1.63458881e-01   9.80100000e+03   3.83671662e-02   9.80100000e+03\n",
      "   9.80100000e+03   2.12400490e-01   9.47413202e-02   9.80100000e+03\n",
      "   9.80100000e+03   2.04586735e-01   9.80100000e+03   9.80100000e+03\n",
      "   9.80100000e+03   1.09151447e-01   9.80100000e+03   4.61573289e-02\n",
      "   1.04030238e-01   9.80100000e+03   1.04952215e-01   1.47690133e-02\n",
      "   8.27124025e-02   6.87307242e-02   7.49729938e-02   4.52772075e-03\n",
      "   1.17797014e-01   4.38681048e-02   9.80100000e+03   8.00007057e-02\n",
      "   6.71201458e-02   2.29233856e-02   9.80100000e+03   1.32765185e-01\n",
      "   9.80100000e+03   9.80100000e+03   6.52298897e-03   9.80100000e+03\n",
      "   9.80100000e+03   2.34882117e-02   5.11466838e-02   1.05414728e-01\n",
      "   9.80100000e+03   6.39562735e-02   3.97026368e-01   3.42123060e+00\n",
      "   6.58942328e-02   2.93840281e-02   5.28594051e-02   4.65564923e-02\n",
      "   9.88825332e-02   2.00096335e-01   7.45830179e-02   9.80100000e+03\n",
      "   5.38035004e-02   9.80100000e+03   5.21839621e-02   9.85837946e-02\n",
      "   9.80100000e+03   1.44262497e-01   8.65847056e-02   6.79850076e-02\n",
      "   9.80100000e+03   6.69970461e-02   9.80100000e+03   9.80100000e+03\n",
      "   9.06886893e-02   4.95644172e-01   7.56252134e-02   9.80100000e+03\n",
      "   9.80100000e+03   9.80100000e+03   9.14058766e-02   2.43709741e-01\n",
      "   6.34763032e-02   6.61385115e-02   4.41073849e-02   9.80100000e+03\n",
      "   1.19762994e-01   9.80100000e+03   8.57474692e-02   9.80100000e+03\n",
      "   9.80100000e+03   7.44532519e-02   6.48005716e-02   2.75920801e-01\n",
      "   2.02496915e-02   9.80100000e+03   9.38654421e-02   9.80100000e+03\n",
      "   6.87307242e-02   1.89398521e-01   9.80100000e+03   9.56212658e-02\n",
      "   9.80100000e+03   9.80100000e+03   3.95871812e-02   9.80100000e+03\n",
      "   9.80100000e+03   7.94637897e-02   9.80100000e+03   9.80100000e+03\n",
      "   6.99826243e-02   9.80100000e+03   9.80100000e+03   5.99341492e-02\n",
      "   9.80100000e+03   2.07824671e-01   8.06743929e-02   5.74011984e-02\n",
      "   9.80100000e+03   6.83573575e-02   8.16223004e-02   9.80100000e+03\n",
      "   9.80100000e+03   8.72855097e-02   3.41599285e-01   9.80100000e+03\n",
      "   1.02502648e-01   6.83573575e-02   9.80100000e+03   9.80100000e+03\n",
      "   9.80100000e+03   9.80100000e+03   4.71739457e-02   2.68109538e-02\n",
      "   9.80100000e+03   1.09780560e-01   9.80100000e+03   9.80100000e+03\n",
      "   9.41569495e-02   1.52130768e-01   3.79030141e-02   3.36955046e-02\n",
      "   9.80100000e+03   9.80100000e+03   8.67246405e-02   4.07878799e-02\n",
      "   9.80100000e+03   1.08524141e-01   9.80100000e+03   9.80100000e+03\n",
      "   9.80100000e+03   1.38896727e-01   9.80100000e+03   7.16269859e-02\n",
      "   5.40463554e-02   1.88984987e-01   2.87679939e-02   7.61490228e-02\n",
      "   9.80100000e+03   1.57743980e-01   1.11044211e-01   9.80100000e+03\n",
      "   9.80100000e+03   2.05075603e-02   5.03222257e-02   4.24265057e-02\n",
      "   8.89494408e-03   4.39876635e-02   9.80100000e+03   9.80100000e+03\n",
      "   1.14074363e-01   8.47850202e-03   7.72020651e-02   9.80100000e+03\n",
      "   6.35961263e-02   1.56801383e-01   9.80100000e+03   9.80100000e+03\n",
      "   9.24146843e-02   1.04952215e-01   9.80100000e+03   9.80100000e+03\n",
      "   9.80100000e+03   9.80100000e+03   9.80100000e+03   8.70048491e-02\n",
      "   9.80100000e+03   9.80100000e+03   9.80100000e+03   6.66284248e-02\n",
      "   2.32846627e-02   9.80100000e+03   3.31653199e-02   5.57279820e-02\n",
      "   9.80100000e+03   9.22702299e-02   9.80100000e+03   2.37183139e-01\n",
      "   9.90320720e-02   6.45024601e-01   9.80100000e+03   9.80100000e+03\n",
      "   9.80100000e+03   1.48847801e-02   1.50282295e-01   3.96155608e-02\n",
      "   9.80100000e+03   9.80100000e+03   6.73666842e-02   5.56158195e-02\n",
      "   9.80100000e+03   9.80100000e+03   9.80100000e+03   9.80100000e+03\n",
      "   1.90019669e-01   9.80100000e+03   9.80100000e+03   1.27947353e-02\n",
      "   9.80100000e+03   8.46374813e-02   3.13722443e-02   9.80100000e+03\n",
      "   9.80100000e+03   4.29963123e-02   9.80100000e+03   9.80100000e+03\n",
      "   7.82202564e-01   9.80100000e+03   9.80100000e+03   9.80100000e+03\n",
      "   9.80100000e+03   3.95966400e-02   2.83715856e-01   9.80100000e+03\n",
      "   9.80100000e+03   6.43174376e-02   9.80100000e+03   9.80100000e+03\n",
      "   9.80100000e+03   2.82942565e-02   9.80100000e+03   1.03265031e-01\n",
      "   7.25203205e-02   9.80100000e+03   8.14865461e-02   9.80100000e+03\n",
      "   9.80100000e+03   9.80100000e+03   2.08836811e-02   1.33285322e-01\n",
      "   7.32904424e-02   9.80100000e+03   9.80100000e+03   9.70968808e-02\n",
      "   1.72419232e-01   1.00082007e-01   9.80100000e+03   9.80100000e+03\n",
      "   9.80100000e+03   9.80100000e+03   4.51315860e-02   1.45529142e-01\n",
      "   9.80100000e+03   2.10651445e-01   5.58739623e-02   1.22942826e-02\n",
      "   2.59156464e-02   6.19288847e-02   6.76136746e-02   9.80100000e+03\n",
      "   2.56789577e-02   9.66530099e-02   3.05646422e-01   8.14865461e-02\n",
      "   6.32369959e-02   9.31386509e-02   6.13388082e-02   6.28788825e-02\n",
      "   9.80100000e+03   9.80100000e+03   9.80100000e+03   9.80100000e+03\n",
      "   9.80100000e+03   4.43373057e-02   6.96058679e-02   9.80100000e+03\n",
      "   6.77884435e-01   8.16223004e-02   3.38965018e-02   9.80100000e+03\n",
      "   9.80100000e+03   9.80100000e+03   3.76535465e-02   9.80100000e+03\n",
      "   1.19280905e+00   1.10885859e-01   9.80100000e+03   1.22784751e-02\n",
      "   7.64116055e-02   9.80100000e+03   9.80100000e+03   5.41901177e-02\n",
      "   9.80100000e+03   7.65430663e-02   9.80100000e+03   9.80100000e+03\n",
      "   4.00139430e-02   1.07885423e-02   9.80100000e+03   3.98334756e-02\n",
      "   9.80100000e+03   1.28001129e-02   7.04865479e-02   9.80100000e+03\n",
      "   1.02426235e-02   4.63413446e-02   9.80100000e+03   7.16269859e-02\n",
      "   5.84307958e-02   9.80100000e+03   1.36251975e-01   7.56252134e-02\n",
      "   9.80100000e+03   4.29568933e-02   9.80100000e+03   1.47530770e-01\n",
      "   2.76739965e-02   9.80100000e+03   9.80100000e+03   6.74901229e-02\n",
      "   4.62492910e-02   2.48029169e-02   9.80100000e+03   3.43619448e-02\n",
      "   9.80100000e+03   1.13593206e-01   1.32592032e-01   9.80100000e+03\n",
      "   1.34154478e-01   9.80100000e+03   9.80100000e+03   9.80100000e+03\n",
      "   9.80100000e+03   9.80100000e+03   9.80100000e+03   8.98317931e-02\n",
      "   1.94605827e-01   9.80100000e+03   9.80100000e+03   9.11186627e-02\n",
      "   9.80100000e+03   9.80100000e+03   8.75666223e-02   9.80100000e+03\n",
      "   3.49193358e-02   9.80100000e+03   1.69471109e-01   9.80100000e+03\n",
      "   9.80100000e+03   9.80100000e+03   4.77642939e-02   9.80100000e+03\n",
      "   9.80100000e+03   9.80100000e+03   9.80100000e+03   2.20043356e-02\n",
      "   8.94048703e-02   5.34072808e-02   9.80100000e+03   4.68955883e-02\n",
      "   8.23027668e-02   2.65043281e-01   1.00232450e-01   7.74664555e-02\n",
      "   9.80100000e+03   1.32073250e-01   1.18614195e-01   9.80100000e+03\n",
      "   9.80100000e+03   9.80100000e+03   9.80100000e+03   9.80100000e+03\n",
      "   1.96497744e-01   6.76136746e-02   8.14865461e-02   7.89286816e-02\n",
      "   2.38392138e-02   9.80100000e+03   1.30694804e-01   6.77373393e-02\n",
      "   9.80100000e+03   6.67511855e-02   9.80100000e+03   1.39428728e-01\n",
      "   1.00986358e-01   9.80100000e+03   9.80100000e+03   1.37483029e-01\n",
      "   1.82583208e-02   9.80100000e+03   6.77373393e-02   9.80100000e+03\n",
      "   9.80100000e+03   9.80100000e+03   1.37483029e-01   6.84817001e-02\n",
      "   1.93137268e-02   9.80100000e+03   5.64146204e-02   1.00986358e-01\n",
      "   1.46882454e-02   9.68008539e-02   4.27797314e-02   9.80100000e+03\n",
      "   9.82855079e-02   9.45494168e-01   9.80100000e+03   3.54454033e-02\n",
      "   5.01091767e-02   7.04865479e-02   9.80100000e+03   1.18941858e-01\n",
      "   4.64744725e-02   5.49897971e-02   9.80100000e+03   9.80100000e+03\n",
      "   1.13913864e-01   9.80100000e+03   8.27124025e-02   9.80100000e+03\n",
      "   9.80100000e+03   9.80100000e+03   9.80100000e+03   9.80100000e+03\n",
      "   9.80100000e+03   8.31230551e-02   1.21911167e-01   9.80100000e+03\n",
      "   9.80100000e+03   9.80100000e+03   8.78481868e-02   6.45587787e-02\n",
      "   9.80100000e+03   3.27080809e-02   9.80100000e+03   1.51945412e-01\n",
      "   4.72152539e-02   6.87307242e-02   9.80100000e+03   9.80100000e+03\n",
      "   4.14239762e-02   9.91817237e-02   5.76292069e-02   5.49006546e-02\n",
      "   2.65043281e-01   4.23286474e-02   9.80100000e+03   2.58718475e-01\n",
      "   4.27011102e-02   1.33111830e-01   9.29936316e-02   9.80100000e+03\n",
      "   9.80100000e+03   9.80100000e+03   2.36926465e+00   9.80100000e+03\n",
      "   4.54451921e-02   2.22873012e-02   1.87541178e-01   1.07586572e-01\n",
      "   9.80100000e+03   9.80100000e+03   8.58867261e-02   6.82331279e-02\n",
      "   6.37160624e-02   8.72855097e-02   9.80100000e+03   9.80100000e+03\n",
      "   4.74945569e-02   4.15886163e-02   9.80100000e+03   9.80100000e+03\n",
      "   9.80100000e+03   9.70968808e-02   8.63051749e-02   9.80100000e+03\n",
      "   1.16982658e-01   9.80100000e+03   9.80100000e+03   3.37828213e-02\n",
      "   6.18106434e-02   1.97588896e-02   9.80100000e+03   2.37183139e-01\n",
      "   1.44623831e-01   8.32601653e-02   9.80100000e+03   9.80100000e+03\n",
      "   9.80100000e+03   9.80100000e+03   9.06886893e-02   9.80100000e+03\n",
      "   9.80100000e+03   6.04005611e-02   9.80100000e+03   8.51915714e-02\n",
      "   1.01591518e-01   9.80100000e+03   3.06606413e-02   9.80100000e+03\n",
      "   1.04952215e-01   9.80100000e+03   1.42642089e-01   9.80100000e+03\n",
      "   9.80100000e+03   1.14395699e-01   8.88372218e-02   6.71636685e-03\n",
      "   9.80100000e+03   8.89789644e-02   1.39606288e-01   9.80100000e+03\n",
      "   9.79876732e-02   9.80100000e+03   9.80100000e+03   9.80100000e+03\n",
      "   1.03876970e-01   7.27765759e-02   9.80100000e+03   9.80100000e+03\n",
      "   9.06886893e-02   4.15814359e-01   1.64035964e-01   9.80100000e+03\n",
      "   9.80100000e+03   9.80100000e+03   9.80100000e+03   2.02699903e-02\n",
      "   9.80100000e+03   9.56212658e-02   9.80100000e+03   1.71433699e-03\n",
      "   9.80100000e+03   9.80100000e+03   9.80100000e+03   9.80100000e+03\n",
      "   9.14058766e-02   9.80100000e+03   5.67198846e-02   8.02698416e-02\n",
      "   6.18106434e-02   5.98178287e-02   1.37306825e-01   9.80100000e+03\n",
      "   9.80100000e+03   8.96893725e-02   2.11525063e-01   7.25203205e-02\n",
      "   9.66530099e-02   9.80100000e+03   8.13509048e-02   9.80100000e+03\n",
      "   9.80100000e+03   9.80100000e+03   1.50466633e-01   8.81302033e-02\n",
      "   1.04798269e-01   9.80100000e+03   7.05159190e-03   9.80100000e+03\n",
      "   4.98116674e-02   8.50528794e-02   2.11732022e-02   3.84251056e-01\n",
      "   9.80100000e+03   9.80100000e+03   5.50790120e-02   1.17633917e-01\n",
      "   9.80100000e+03   9.98922730e-03   2.05279879e-02   1.69275471e-01\n",
      "   9.80100000e+03   9.80100000e+03   9.80100000e+03   9.80100000e+03\n",
      "   6.94805084e-02   9.80100000e+03   9.05455908e-02   9.80100000e+03\n",
      "   7.00377112e-01   9.34290284e-02   9.80100000e+03   1.21745245e-01\n",
      "   1.22077201e-01   1.77189106e-01   7.87951870e-02   9.80100000e+03\n",
      "   9.80100000e+03   5.98178287e-02   9.80100000e+03   6.35961263e-02\n",
      "   4.67824196e-02   6.02837886e-02   2.68265235e+00   3.23052600e-02\n",
      "   6.96058679e-02   3.47241817e-02   8.39474110e-02   9.80100000e+03\n",
      "   9.80100000e+03   3.64639364e-02   9.80100000e+03   4.45176607e-02\n",
      "   9.80100000e+03   1.08577787e-02   7.60179010e-02   9.80100000e+03\n",
      "   3.25106440e-02   9.80100000e+03   7.79965923e-02   7.32904424e-02\n",
      "   8.89789644e-02   9.80100000e+03   1.65579824e-01   5.07389711e-02\n",
      "   7.13968589e-01   6.51641085e-02   2.78172696e-01   1.24078434e-01\n",
      "   9.80100000e+03   1.23409548e-01   6.68740593e-02   9.80100000e+03\n",
      "   6.66284248e-02   9.93314885e-02   1.00383005e-01   9.80100000e+03\n",
      "   9.80100000e+03   9.80100000e+03   9.80100000e+03   8.13194717e-01\n",
      "   1.28470253e-01   9.80100000e+03   9.80100000e+03   1.12474462e-01\n",
      "   2.82223372e-02   1.50466633e-01   9.80100000e+03   9.56212658e-02\n",
      "   9.80100000e+03   9.80100000e+03   9.80100000e+03   9.80100000e+03\n",
      "   7.47128969e-02   9.80100000e+03   9.29936316e-02   9.80100000e+03\n",
      "   1.25253333e-01   8.05394295e-02   1.10411482e-01   1.21366652e-02\n",
      "   6.46170462e-01   1.09151447e-01   2.71940030e-01   9.84345948e-02\n",
      "   9.80100000e+03   9.80100000e+03   9.80100000e+03   9.80100000e+03\n",
      "   1.04798269e-01   1.58121810e-01   9.80100000e+03   9.80100000e+03\n",
      "   1.43541186e-01   9.80100000e+03   1.88984987e-01   6.22842865e-02\n",
      "   4.03188100e-02   1.43001389e-01   9.80100000e+03   9.80100000e+03\n",
      "   1.91226171e-02   9.80100000e+03   5.22817408e-02   9.80100000e+03\n",
      "   9.80100000e+03   1.02807262e-01   1.78592579e-01   9.80100000e+03\n",
      "   1.22909071e-01   9.80100000e+03   7.11189947e-02   9.80100000e+03\n",
      "   4.36791362e-02   4.23677772e-02   1.05723636e-01   1.33980421e-01\n",
      "   5.99341492e-02   3.83764781e-02   2.42150058e-02   2.52470047e-01\n",
      "   4.28584248e-02   9.80100000e+03   1.30008293e-01   9.65052790e-02\n",
      "   2.42372027e-02   9.66530099e-02   9.80100000e+03   9.80100000e+03\n",
      "   5.11359336e-02   1.69095996e-02   9.80100000e+03   8.78481868e-02\n",
      "   9.80100000e+03   9.80100000e+03   6.12211318e-02   6.48005716e-02\n",
      "   6.65057770e-02   6.29981406e-02   9.80100000e+03   9.80100000e+03\n",
      "   3.76044557e-01   1.16171126e-01   7.54945435e-02   8.33973885e-02\n",
      "   9.47413202e-02   9.80100000e+03   9.32837831e-02   9.80100000e+03\n",
      "   9.80100000e+03   2.05016991e-03   9.80100000e+03   9.80100000e+03\n",
      "   4.41273543e-02   2.47006261e-01   9.80100000e+03   5.05571016e-02\n",
      "   3.00148236e-02   8.06350394e-01   5.60088827e-02   9.80100000e+03\n",
      "   3.92568372e-02   1.37028961e-02   5.70600330e-02   9.80100000e+03]\n"
     ]
    },
    {
     "ename": "AttributeError",
     "evalue": "'str' object has no attribute 'shape'",
     "output_type": "error",
     "traceback": [
      "\u001b[0;31m---------------------------------------------------------------------------\u001b[0m",
      "\u001b[0;31mAttributeError\u001b[0m                            Traceback (most recent call last)",
      "\u001b[0;32m<ipython-input-16-07f026ef0f72>\u001b[0m in \u001b[0;36m<module>\u001b[0;34m()\u001b[0m\n\u001b[1;32m      2\u001b[0m \u001b[0;34m\u001b[0m\u001b[0m\n\u001b[1;32m      3\u001b[0m \u001b[0mtest_feature\u001b[0m\u001b[0;34m=\u001b[0m\u001b[0mdataset\u001b[0m\u001b[0;34m.\u001b[0m\u001b[0mget_feature_by_name\u001b[0m\u001b[0;34m(\u001b[0m\u001b[0;34m'FLUXERR_H_2'\u001b[0m\u001b[0;34m)\u001b[0m\u001b[0;34m**\u001b[0m\u001b[0;36m2\u001b[0m\u001b[0;34m\u001b[0m\u001b[0m\n\u001b[0;32m----> 4\u001b[0;31m \u001b[0madd_features\u001b[0m\u001b[0;34m(\u001b[0m\u001b[0mdataset\u001b[0m\u001b[0;34m,\u001b[0m\u001b[0mtest_feature\u001b[0m\u001b[0;34m,\u001b[0m\u001b[0;34m'test'\u001b[0m\u001b[0;34m)\u001b[0m\u001b[0;34m\u001b[0m\u001b[0m\n\u001b[0m\u001b[1;32m      5\u001b[0m \u001b[0mdataset\u001b[0m\u001b[0;34m.\u001b[0m\u001b[0mfeatures_names\u001b[0m\u001b[0;34m\u001b[0m\u001b[0m\n",
      "\u001b[0;32m/Users/orion/Work/Projects/Primal/PrimalCore/python/PrimalCore/homogeneous_table/dataset_handler.py\u001b[0m in \u001b[0;36madd_features\u001b[0;34m(dataset, feature_names_list, features)\u001b[0m\n",
      "\u001b[0;32m/Users/orion/Work/Projects/Primal/PrimalCore/python/PrimalCore/homogeneous_table/dataset_handler.py\u001b[0m in \u001b[0;36mcheck_dataset_decorate\u001b[0;34m(func, dataset, *args, **kwargs)\u001b[0m\n\u001b[1;32m     55\u001b[0m \u001b[0;32mdef\u001b[0m \u001b[0mcheck_dataset_decorate\u001b[0m\u001b[0;34m(\u001b[0m\u001b[0mfunc\u001b[0m\u001b[0;34m,\u001b[0m\u001b[0mdataset\u001b[0m\u001b[0;34m,\u001b[0m\u001b[0;34m*\u001b[0m\u001b[0margs\u001b[0m\u001b[0;34m,\u001b[0m \u001b[0;34m**\u001b[0m\u001b[0mkwargs\u001b[0m\u001b[0;34m)\u001b[0m\u001b[0;34m:\u001b[0m\u001b[0;34m\u001b[0m\u001b[0m\n\u001b[1;32m     56\u001b[0m     \u001b[0mMLDataSet\u001b[0m\u001b[0;34m.\u001b[0m\u001b[0m_check_is_MLDataSett\u001b[0m\u001b[0;34m(\u001b[0m\u001b[0mdataset\u001b[0m\u001b[0;34m)\u001b[0m\u001b[0;34m\u001b[0m\u001b[0m\n\u001b[0;32m---> 57\u001b[0;31m     \u001b[0;32mreturn\u001b[0m \u001b[0mfunc\u001b[0m\u001b[0;34m(\u001b[0m\u001b[0mdataset\u001b[0m\u001b[0;34m,\u001b[0m\u001b[0;34m*\u001b[0m\u001b[0margs\u001b[0m\u001b[0;34m,\u001b[0m \u001b[0;34m**\u001b[0m\u001b[0mkwargs\u001b[0m\u001b[0;34m)\u001b[0m\u001b[0;34m\u001b[0m\u001b[0m\n\u001b[0m\u001b[1;32m     58\u001b[0m \u001b[0;34m\u001b[0m\u001b[0m\n\u001b[1;32m     59\u001b[0m \u001b[0;34m\u001b[0m\u001b[0m\n",
      "\u001b[0;32m/Users/orion/Work/Projects/Primal/PrimalCore/python/PrimalCore/homogeneous_table/dataset_handler.py\u001b[0m in \u001b[0;36madd_features\u001b[0;34m(dataset, feature_names_list, features)\u001b[0m\n",
      "\u001b[0;32m/Users/orion/Work/Projects/Primal/PrimalCore/python/PrimalCore/homogeneous_table/dataset_handler.py\u001b[0m in \u001b[0;36mcheck_names_list_decorate\u001b[0;34m(func, dataset, names, *args, **kwargs)\u001b[0m\n\u001b[1;32m     75\u001b[0m         \u001b[0mfeature_names_list\u001b[0m\u001b[0;34m=\u001b[0m\u001b[0;34m[\u001b[0m\u001b[0mdataset\u001b[0m\u001b[0;34m.\u001b[0m\u001b[0m_features_names\u001b[0m\u001b[0;34m[\u001b[0m\u001b[0mID\u001b[0m\u001b[0;34m]\u001b[0m \u001b[0;32mfor\u001b[0m \u001b[0mID\u001b[0m \u001b[0;32min\u001b[0m \u001b[0mIDs\u001b[0m\u001b[0;34m]\u001b[0m\u001b[0;34m\u001b[0m\u001b[0m\n\u001b[1;32m     76\u001b[0m \u001b[0;34m\u001b[0m\u001b[0m\n\u001b[0;32m---> 77\u001b[0;31m     \u001b[0;32mreturn\u001b[0m \u001b[0mfunc\u001b[0m\u001b[0;34m(\u001b[0m\u001b[0mdataset\u001b[0m\u001b[0;34m,\u001b[0m\u001b[0mfeature_names_list\u001b[0m\u001b[0;34m,\u001b[0m\u001b[0;34m*\u001b[0m\u001b[0margs\u001b[0m\u001b[0;34m,\u001b[0m \u001b[0;34m**\u001b[0m\u001b[0mkwargs\u001b[0m\u001b[0;34m)\u001b[0m\u001b[0;34m\u001b[0m\u001b[0m\n\u001b[0m\u001b[1;32m     78\u001b[0m \u001b[0;34m\u001b[0m\u001b[0m\n\u001b[1;32m     79\u001b[0m \u001b[0;34m\u001b[0m\u001b[0m\n",
      "\u001b[0;32m/Users/orion/Work/Projects/Primal/PrimalCore/python/PrimalCore/homogeneous_table/dataset_handler.py\u001b[0m in \u001b[0;36madd_features\u001b[0;34m(dataset, feature_names_list, features)\u001b[0m\n\u001b[1;32m    138\u001b[0m            \u001b[0;32mraise\u001b[0m \u001b[0mRuntimeError\u001b[0m\u001b[0;34m(\u001b[0m\u001b[0;34m'number of rows in features not equal to number of rows in data.features'\u001b[0m\u001b[0;34m)\u001b[0m\u001b[0;34m\u001b[0m\u001b[0m\n\u001b[1;32m    139\u001b[0m \u001b[0;34m\u001b[0m\u001b[0m\n\u001b[0;32m--> 140\u001b[0;31m     \u001b[0;32mif\u001b[0m \u001b[0mcheck_same_size\u001b[0m\u001b[0;34m(\u001b[0m\u001b[0mfeatures\u001b[0m\u001b[0;34m.\u001b[0m\u001b[0mshape\u001b[0m\u001b[0;34m[\u001b[0m\u001b[0;36m1\u001b[0m\u001b[0;34m]\u001b[0m\u001b[0;34m,\u001b[0m \u001b[0mlen\u001b[0m\u001b[0;34m(\u001b[0m\u001b[0mfeature_names_list\u001b[0m\u001b[0;34m)\u001b[0m\u001b[0;34m)\u001b[0m\u001b[0;34m:\u001b[0m\u001b[0;34m\u001b[0m\u001b[0m\n\u001b[0m\u001b[1;32m    141\u001b[0m         \u001b[0;32mpass\u001b[0m\u001b[0;34m\u001b[0m\u001b[0m\n\u001b[1;32m    142\u001b[0m     \u001b[0;32melse\u001b[0m\u001b[0;34m:\u001b[0m\u001b[0;34m\u001b[0m\u001b[0m\n",
      "\u001b[0;31mAttributeError\u001b[0m: 'str' object has no attribute 'shape'"
     ]
    }
   ],
   "source": [
    "from PrimalCore.homogeneous_table.dataset_handler import add_features\n",
    "\n",
    "test_feature=dataset.get_feature_by_name('FLUXERR_H_2')**2\n",
    "add_features(dataset,'test',test_feature)\n",
    "dataset.features_names"
   ]
  },
  {
   "cell_type": "markdown",
   "metadata": {},
   "source": [
    "Or we can add a 2dim array of features\n"
   ]
  },
  {
   "cell_type": "code",
   "execution_count": null,
   "metadata": {
    "collapsed": false
   },
   "outputs": [],
   "source": [
    "test_feature_2dim=np.zeros((dataset.features_N_rows,5))\n",
    "test_feature_2dim_names=['a','b','c','d','e']\n",
    "add_features(dataset,test_feature_2dim_names,test_feature_2dim)\n",
    "dataset.features_names"
   ]
  },
  {
   "cell_type": "markdown",
   "metadata": {
    "collapsed": true
   },
   "source": [
    "We can think to a more meaningful example, i.e. we want to add flux ratios. Lets start by defining the list of \n",
    "contigous bands, for the flux evaluation"
   ]
  },
  {
   "cell_type": "code",
   "execution_count": null,
   "metadata": {
    "collapsed": true
   },
   "outputs": [],
   "source": [
    "flux_bands_list_2=['FLUX_G_2','FLUX_R_2','FLUX_I_2','FLUX_Z_2','FLUX_Y_2','FLUX_J_2','FLUX_VIS','FLUX_VIS','FLUX_VIS']\n",
    "flux_bands_list_1=['FLUX_R_2','FLUX_I_2','FLUX_Z_2','FLUX_Y_2','FLUX_J_2','FLUX_H_2','FLUX_Y_2','FLUX_J_2','FLUX_H_2']"
   ]
  },
  {
   "cell_type": "raw",
   "metadata": {},
   "source": [
    "we import the module where we have defined the FluxRatio class (:mod:`PrimalCore.phz_tools.photometry`)"
   ]
  },
  {
   "cell_type": "code",
   "execution_count": null,
   "metadata": {
    "collapsed": false
   },
   "outputs": [],
   "source": [
    "from PrimalCore.phz_tools.photometry import FluxRatio"
   ]
  },
  {
   "cell_type": "code",
   "execution_count": null,
   "metadata": {
    "collapsed": false
   },
   "outputs": [],
   "source": [
    "for f1,f2 in zip(flux_bands_list_1,flux_bands_list_2):\n",
    "    f1_name=f1.split('_')[1]\n",
    "    f2_name=f2.split('_')[1]\n",
    "    if f1 in dataset.features_names and f2 in dataset.features_names:\n",
    "        f=FluxRatio('F_%s'%(f2_name+'-'+f1_name),f1,f2,features=dataset)\n",
    "        add_features(dataset,f.name,f.values)"
   ]
  },
  {
   "cell_type": "raw",
   "metadata": {},
   "source": [
    ".. note::\n",
    "    Note that in this example we skipped the selection  CLEAN=\" (FLAG_PHOT == 0) & (MASKED == 0) & (STAR == 0) & \n",
    "    (AGN == 0) & (reliable_S15==1)\", so we have entries with flux values that are zero, and this results in the \n",
    "    corresponding warning messge due to zero division"
   ]
  },
  {
   "cell_type": "code",
   "execution_count": null,
   "metadata": {
    "collapsed": false
   },
   "outputs": [],
   "source": [
    "dataset.features_names"
   ]
  },
  {
   "cell_type": "markdown",
   "metadata": {
    "collapsed": true
   },
   "source": [
    "## Operations on rows\n",
    "### filtering NaN/Inf with dataset_preprocessing functions"
   ]
  },
  {
   "cell_type": "raw",
   "metadata": {},
   "source": [
    "We can get rid of the NAN/INF rows using  the :func:`~PrimalCore.preprocessing.dataset_preprocessing.drop_nan_inf` function"
   ]
  },
  {
   "cell_type": "code",
   "execution_count": null,
   "metadata": {
    "collapsed": false
   },
   "outputs": [],
   "source": [
    "from PrimalCore.preprocessing.dataset_preprocessing import drop_nan_inf"
   ]
  },
  {
   "cell_type": "code",
   "execution_count": null,
   "metadata": {
    "collapsed": false
   },
   "outputs": [],
   "source": [
    "drop_nan_inf(dataset)"
   ]
  },
  {
   "cell_type": "code",
   "execution_count": null,
   "metadata": {
    "collapsed": false
   },
   "outputs": [],
   "source": []
  }
 ],
 "metadata": {
  "kernelspec": {
   "display_name": "Python 2",
   "language": "python",
   "name": "python2"
  },
  "language_info": {
   "codemirror_mode": {
    "name": "ipython",
    "version": 2
   },
   "file_extension": ".py",
   "mimetype": "text/x-python",
   "name": "python",
   "nbconvert_exporter": "python",
   "pygments_lexer": "ipython2",
   "version": "2.7.11"
  }
 },
 "nbformat": 4,
 "nbformat_minor": 0
}
