{
 "cells": [
  {
   "cell_type": "raw",
   "metadata": {},
   "source": [
    ".. _MLDataSet_user_guide:\n"
   ]
  },
  {
   "cell_type": "markdown",
   "metadata": {},
   "source": [
    "# Example of building a MLDataSet\n"
   ]
  },
  {
   "cell_type": "raw",
   "metadata": {},
   "source": [
    "We provide a simple workflow to build a fetures dataset using the class :class:`dataset.MLDataSet` (see for full API the module :mod:`~PrimalCore.homogeneous_table.dataset.MLDataSet`)\n",
    "\n",
    ".. currentmodule:: PrimalCore.homogeneous_table.dataset\n",
    "\n",
    ".. contents:: :local:\n",
    "\n",
    ".. toctree::\n"
   ]
  },
  {
   "cell_type": "markdown",
   "metadata": {},
   "source": [
    "## Building a Features MLDataSet from a Table"
   ]
  },
  {
   "cell_type": "raw",
   "metadata": {},
   "source": [
    "we follow the approach in `Table_user_guide`_ to build a catalog using the :class:`PrimalCore.heterogeneous_table.table.Table`"
   ]
  },
  {
   "cell_type": "code",
   "execution_count": 1,
   "metadata": {
    "collapsed": false
   },
   "outputs": [],
   "source": [
    "from PrimalCore.heterogeneous_table.table import Table\n",
    "from ElementsKernel.Path import getPathFromEnvVariable"
   ]
  },
  {
   "cell_type": "code",
   "execution_count": 2,
   "metadata": {
    "collapsed": false
   },
   "outputs": [],
   "source": [
    "ph_catalog=getPathFromEnvVariable('PrimalCore/test_table.fits','ELEMENTS_AUX_PATH')"
   ]
  },
  {
   "cell_type": "code",
   "execution_count": 3,
   "metadata": {
    "collapsed": false
   },
   "outputs": [
    {
     "name": "stdout",
     "output_type": "stream",
     "text": [
      "| input data built\n",
      "| data Rows,Cols 1000 124\n"
     ]
    }
   ],
   "source": [
    "catalog=Table.from_fits_file(ph_catalog,fits_ext=0)"
   ]
  },
  {
   "cell_type": "code",
   "execution_count": 4,
   "metadata": {
    "collapsed": false,
    "scrolled": false
   },
   "outputs": [],
   "source": [
    "catalog.keep_columns(['FLUX*','reliable_S15','STAR','AGN','MASKED','FLAG_PHOT'],regex=True)"
   ]
  },
  {
   "cell_type": "raw",
   "metadata": {},
   "source": [
    "We  now build a Features dataset using the :class:`dataset.MLDataSet` class from the :mod:`PrimalCore.homogeneous_table.dataset` python module."
   ]
  },
  {
   "cell_type": "markdown",
   "metadata": {},
   "source": [
    "First we import the classes and the functions we need"
   ]
  },
  {
   "cell_type": "code",
   "execution_count": 5,
   "metadata": {
    "collapsed": false
   },
   "outputs": [],
   "source": [
    "from PrimalCore.homogeneous_table.dataset import MLDataSet"
   ]
  },
  {
   "cell_type": "raw",
   "metadata": {},
   "source": [
    ".. note::\n",
    "   \n",
    "   It is worth noting that  for the :class:`MLDataSet` class, most of the functions to modify the dataset \n",
    "   content have been implemented as functions in separate python modules. This is made on purpose, and shows a \n",
    "   different approach compared to that used for the :class:`PrimalCore.heterogeneous_table.table.Table` class, where \n",
    "   the functions are implemented as methods of the same class."
   ]
  },
  {
   "cell_type": "raw",
   "metadata": {},
   "source": [
    "To build a MLDataSet directly from a Table  we can use the classmethod :func:`MLDataSet.new_from_table`"
   ]
  },
  {
   "cell_type": "code",
   "execution_count": 6,
   "metadata": {
    "collapsed": false
   },
   "outputs": [
    {
     "name": "stdout",
     "output_type": "stream",
     "text": [
      "| building features\n",
      "| features built\n",
      "| Rows,Cols 1000 50\n"
     ]
    }
   ],
   "source": [
    "dataset=MLDataSet.new_from_table(catalog)"
   ]
  },
  {
   "cell_type": "code",
   "execution_count": 7,
   "metadata": {
    "collapsed": false
   },
   "outputs": [
    {
     "name": "stdout",
     "output_type": "stream",
     "text": [
      "['FLUX_G_1', 'FLUX_G_2', 'FLUX_G_3', 'FLUX_R_1', 'FLUX_R_2', 'FLUX_R_3', 'FLUX_I_1', 'FLUX_I_2', 'FLUX_I_3', 'FLUX_VIS', 'FLUX_Z_1', 'FLUX_Z_2', 'FLUX_Z_3', 'FLUX_Y_1', 'FLUX_Y_2', 'FLUX_Y_3', 'FLUX_J_1', 'FLUX_J_2', 'FLUX_J_3', 'FLUX_H_1', 'FLUX_H_2', 'FLUX_H_3', 'FLUXERR_G_1', 'FLUXERR_G_2', 'FLUXERR_G_3', 'FLUXERR_R_1', 'FLUXERR_R_2', 'FLUXERR_R_3', 'FLUXERR_I_1', 'FLUXERR_I_2', 'FLUXERR_I_3', 'FLUXERR_VIS', 'FLUXERR_Z_1', 'FLUXERR_Z_2', 'FLUXERR_Z_3', 'FLUXERR_Y_1', 'FLUXERR_Y_2', 'FLUXERR_Y_3', 'FLUXERR_J_1', 'FLUXERR_J_2', 'FLUXERR_J_3', 'FLUXERR_H_1', 'FLUXERR_H_2', 'FLUXERR_H_3', 'FLAG_PHOT', 'FLUX_RADIUS_DETECT', 'MASKED', 'reliable_S15', 'STAR', 'AGN']\n"
     ]
    }
   ],
   "source": [
    "print dataset.features_names"
   ]
  },
  {
   "cell_type": "raw",
   "metadata": {},
   "source": [
    ".. note::\n",
    "    as you can see, the **__original_entry_ID__** is not present among the features, indeed it is used only to track \n",
    "    the original catalog IDs, but it is present as separate member of the dataset (we print onlty the 10 first\n",
    "    elements)"
   ]
  },
  {
   "cell_type": "code",
   "execution_count": 8,
   "metadata": {
    "collapsed": false
   },
   "outputs": [
    {
     "name": "stdout",
     "output_type": "stream",
     "text": [
      "[1 2 3 4 5 6 7 8 9]\n"
     ]
    }
   ],
   "source": [
    "print dataset.features_original_entry_ID[1:10]"
   ]
  },
  {
   "cell_type": "markdown",
   "metadata": {},
   "source": [
    "and in this way it **safely** can not be used as a feature.\n"
   ]
  },
  {
   "cell_type": "markdown",
   "metadata": {},
   "source": [
    "## Building a Features MLDataSet from a FITS file"
   ]
  },
  {
   "cell_type": "raw",
   "metadata": {},
   "source": [
    "To build a MLDataSet directly from a FITS file we can use the classmethod :func:`MLDataSet.new_from_fits_file`"
   ]
  },
  {
   "cell_type": "code",
   "execution_count": 9,
   "metadata": {
    "collapsed": false
   },
   "outputs": [
    {
     "name": "stdout",
     "output_type": "stream",
     "text": [
      "| input data built\n",
      "| data Rows,Cols 1000 124\n",
      "| building features\n",
      "| features built\n",
      "| Rows,Cols 1000 50\n"
     ]
    }
   ],
   "source": [
    "dataset_from_file=MLDataSet.new_from_fits_file(ph_catalog,fits_ext=0,\\\n",
    "                                               use_col_names_list=['FLUX*','reliable_S15','STAR','AGN','MASKED','FLAG_PHOT'],\\\n",
    "                                               regex=True)"
   ]
  },
  {
   "cell_type": "code",
   "execution_count": 10,
   "metadata": {
    "collapsed": false
   },
   "outputs": [
    {
     "name": "stdout",
     "output_type": "stream",
     "text": [
      "['FLUX_G_1', 'FLUX_G_2', 'FLUX_G_3', 'FLUX_R_1', 'FLUX_R_2', 'FLUX_R_3', 'FLUX_I_1', 'FLUX_I_2', 'FLUX_I_3', 'FLUX_VIS', 'FLUX_Z_1', 'FLUX_Z_2', 'FLUX_Z_3', 'FLUX_Y_1', 'FLUX_Y_2', 'FLUX_Y_3', 'FLUX_J_1', 'FLUX_J_2', 'FLUX_J_3', 'FLUX_H_1', 'FLUX_H_2', 'FLUX_H_3', 'FLUXERR_G_1', 'FLUXERR_G_2', 'FLUXERR_G_3', 'FLUXERR_R_1', 'FLUXERR_R_2', 'FLUXERR_R_3', 'FLUXERR_I_1', 'FLUXERR_I_2', 'FLUXERR_I_3', 'FLUXERR_VIS', 'FLUXERR_Z_1', 'FLUXERR_Z_2', 'FLUXERR_Z_3', 'FLUXERR_Y_1', 'FLUXERR_Y_2', 'FLUXERR_Y_3', 'FLUXERR_J_1', 'FLUXERR_J_2', 'FLUXERR_J_3', 'FLUXERR_H_1', 'FLUXERR_H_2', 'FLUXERR_H_3', 'FLUX_RADIUS_DETECT', 'reliable_S15', 'STAR', 'AGN', 'MASKED', 'FLAG_PHOT']\n"
     ]
    }
   ],
   "source": [
    "print dataset_from_file.features_names"
   ]
  },
  {
   "cell_type": "markdown",
   "metadata": {},
   "source": [
    "## Columns selection\n",
    "### using  `use_col_names_list` in the factories"
   ]
  },
  {
   "cell_type": "raw",
   "metadata": {},
   "source": [
    "Columns can be selected using the `use_col_names_list` parameter in the classmethod factories  :func:`MLDataSet.new_from_table` and :func:`MLDataSet.new_from_fits_file`"
   ]
  },
  {
   "cell_type": "code",
   "execution_count": 11,
   "metadata": {
    "collapsed": false
   },
   "outputs": [
    {
     "name": "stdout",
     "output_type": "stream",
     "text": [
      "| building features\n",
      "| features built\n",
      "| Rows,Cols 1000 50\n"
     ]
    }
   ],
   "source": [
    "dataset=MLDataSet.new_from_table(catalog,use_col_names_list=['FLUX*','reliable_S15','STAR','AGN','MASKED','FLAG_PHOT'],\\\n",
    "                                regex=True)"
   ]
  },
  {
   "cell_type": "code",
   "execution_count": 12,
   "metadata": {
    "collapsed": false
   },
   "outputs": [
    {
     "name": "stdout",
     "output_type": "stream",
     "text": [
      "['FLUX_G_1', 'FLUX_G_2', 'FLUX_G_3', 'FLUX_R_1', 'FLUX_R_2', 'FLUX_R_3', 'FLUX_I_1', 'FLUX_I_2', 'FLUX_I_3', 'FLUX_VIS', 'FLUX_Z_1', 'FLUX_Z_2', 'FLUX_Z_3', 'FLUX_Y_1', 'FLUX_Y_2', 'FLUX_Y_3', 'FLUX_J_1', 'FLUX_J_2', 'FLUX_J_3', 'FLUX_H_1', 'FLUX_H_2', 'FLUX_H_3', 'FLUXERR_G_1', 'FLUXERR_G_2', 'FLUXERR_G_3', 'FLUXERR_R_1', 'FLUXERR_R_2', 'FLUXERR_R_3', 'FLUXERR_I_1', 'FLUXERR_I_2', 'FLUXERR_I_3', 'FLUXERR_VIS', 'FLUXERR_Z_1', 'FLUXERR_Z_2', 'FLUXERR_Z_3', 'FLUXERR_Y_1', 'FLUXERR_Y_2', 'FLUXERR_Y_3', 'FLUXERR_J_1', 'FLUXERR_J_2', 'FLUXERR_J_3', 'FLUXERR_H_1', 'FLUXERR_H_2', 'FLUXERR_H_3', 'FLUX_RADIUS_DETECT', 'reliable_S15', 'STAR', 'AGN', 'MASKED', 'FLAG_PHOT']\n"
     ]
    }
   ],
   "source": [
    "print dataset.features_names"
   ]
  },
  {
   "cell_type": "markdown",
   "metadata": {},
   "source": [
    "###  using dataset_handler fucntions"
   ]
  },
  {
   "cell_type": "raw",
   "metadata": {},
   "source": [
    "Or, columns can be selected using specific selection functions, from the :mod:`~PrimalCore.homogeneous_table.dataset_handler` module"
   ]
  },
  {
   "cell_type": "code",
   "execution_count": 13,
   "metadata": {
    "collapsed": true
   },
   "outputs": [],
   "source": [
    "from PrimalCore.homogeneous_table.dataset_handler import drop_features\n",
    "from PrimalCore.homogeneous_table.dataset_handler import keep_features"
   ]
  },
  {
   "cell_type": "raw",
   "metadata": {},
   "source": [
    "for example we decide to drop columns with names matching expression  \"FLUX\\*1\\*\" by  using the :func:`~PrimalCore.homogeneous_table.dataset_handler.drop_features`"
   ]
  },
  {
   "cell_type": "code",
   "execution_count": 14,
   "metadata": {
    "collapsed": false,
    "scrolled": false
   },
   "outputs": [
    {
     "name": "stdout",
     "output_type": "stream",
     "text": [
      "| features initial Rows,Cols= 1000 50\n",
      "| removing features ['FLUX_G_1', 'FLUX_R_1', 'FLUX_I_1', 'FLUX_Z_1', 'FLUX_Y_1', 'FLUX_J_1', 'FLUX_H_1', 'FLUXERR_G_1', 'FLUXERR_R_1', 'FLUXERR_I_1', 'FLUXERR_Z_1', 'FLUXERR_Y_1', 'FLUXERR_J_1', 'FLUXERR_H_1']\n",
      "| features final Rows,Cols= 1000 36\n",
      "\n"
     ]
    },
    {
     "data": {
      "text/plain": [
       "['FLUX_G_2',\n",
       " 'FLUX_G_3',\n",
       " 'FLUX_R_2',\n",
       " 'FLUX_R_3',\n",
       " 'FLUX_I_2',\n",
       " 'FLUX_I_3',\n",
       " 'FLUX_VIS',\n",
       " 'FLUX_Z_2',\n",
       " 'FLUX_Z_3',\n",
       " 'FLUX_Y_2',\n",
       " 'FLUX_Y_3',\n",
       " 'FLUX_J_2',\n",
       " 'FLUX_J_3',\n",
       " 'FLUX_H_2',\n",
       " 'FLUX_H_3',\n",
       " 'FLUXERR_G_2',\n",
       " 'FLUXERR_G_3',\n",
       " 'FLUXERR_R_2',\n",
       " 'FLUXERR_R_3',\n",
       " 'FLUXERR_I_2',\n",
       " 'FLUXERR_I_3',\n",
       " 'FLUXERR_VIS',\n",
       " 'FLUXERR_Z_2',\n",
       " 'FLUXERR_Z_3',\n",
       " 'FLUXERR_Y_2',\n",
       " 'FLUXERR_Y_3',\n",
       " 'FLUXERR_J_2',\n",
       " 'FLUXERR_J_3',\n",
       " 'FLUXERR_H_2',\n",
       " 'FLUXERR_H_3',\n",
       " 'FLUX_RADIUS_DETECT',\n",
       " 'reliable_S15',\n",
       " 'STAR',\n",
       " 'AGN',\n",
       " 'MASKED',\n",
       " 'FLAG_PHOT']"
      ]
     },
     "execution_count": 14,
     "metadata": {},
     "output_type": "execute_result"
    }
   ],
   "source": [
    "drop_features(dataset,['FLUX*1*'])\n",
    "dataset.features_names"
   ]
  },
  {
   "cell_type": "raw",
   "metadata": {},
   "source": [
    "Furtger we can decide to keep only columns with names matching the regular expression \"FLUX\\*2\\*\" by using the  :func:`~PrimalCore.homogeneous_table.dataset_handler.keep_features`  function from the :mod:`PrimalCore.homogeneous_table.dataset_handler` package"
   ]
  },
  {
   "cell_type": "code",
   "execution_count": 15,
   "metadata": {
    "collapsed": false
   },
   "outputs": [
    {
     "name": "stdout",
     "output_type": "stream",
     "text": [
      "| features initial Rows,Cols= 1000 36\n",
      "| removing features ['FLUX_G_3', 'FLUX_R_3', 'FLUX_I_3', 'FLUX_VIS', 'FLUX_Z_3', 'FLUX_Y_3', 'FLUX_J_3', 'FLUX_H_3', 'FLUXERR_G_3', 'FLUXERR_R_3', 'FLUXERR_I_3', 'FLUXERR_VIS', 'FLUXERR_Z_3', 'FLUXERR_Y_3', 'FLUXERR_J_3', 'FLUXERR_H_3', 'FLUX_RADIUS_DETECT', 'reliable_S15', 'STAR', 'AGN', 'MASKED', 'FLAG_PHOT']\n",
      "| features final Rows,Cols= 1000 14\n",
      "\n",
      "['FLUX_G_2', 'FLUX_R_2', 'FLUX_I_2', 'FLUX_Z_2', 'FLUX_Y_2', 'FLUX_J_2', 'FLUX_H_2', 'FLUXERR_G_2', 'FLUXERR_R_2', 'FLUXERR_I_2', 'FLUXERR_Z_2', 'FLUXERR_Y_2', 'FLUXERR_J_2', 'FLUXERR_H_2']\n"
     ]
    }
   ],
   "source": [
    "keep_features(dataset,['FLUX*2*'],regex=True)\n",
    "print dataset.features_names"
   ]
  },
  {
   "cell_type": "markdown",
   "metadata": {},
   "source": [
    "## Adding features"
   ]
  },
  {
   "cell_type": "raw",
   "metadata": {},
   "source": [
    "And finally we can add a new feature with the :func:`~PrimalCore.homogeneous_table.dataset_handler.add_features` function\n",
    "We can add a single feature:"
   ]
  },
  {
   "cell_type": "code",
   "execution_count": 16,
   "metadata": {
    "collapsed": false
   },
   "outputs": [
    {
     "data": {
      "text/plain": [
       "['FLUX_G_2',\n",
       " 'FLUX_R_2',\n",
       " 'FLUX_I_2',\n",
       " 'FLUX_Z_2',\n",
       " 'FLUX_Y_2',\n",
       " 'FLUX_J_2',\n",
       " 'FLUX_H_2',\n",
       " 'FLUXERR_G_2',\n",
       " 'FLUXERR_R_2',\n",
       " 'FLUXERR_I_2',\n",
       " 'FLUXERR_Z_2',\n",
       " 'FLUXERR_Y_2',\n",
       " 'FLUXERR_J_2',\n",
       " 'FLUXERR_H_2',\n",
       " 'test']"
      ]
     },
     "execution_count": 16,
     "metadata": {},
     "output_type": "execute_result"
    }
   ],
   "source": [
    "from PrimalCore.homogeneous_table.dataset_handler import add_features\n",
    "\n",
    "test_feature=dataset.get_feature_by_name('FLUXERR_H_2')**2\n",
    "add_features(dataset,'test',test_feature)\n",
    "dataset.features_names"
   ]
  },
  {
   "cell_type": "markdown",
   "metadata": {},
   "source": [
    "Or we can add a 2dim array of features\n"
   ]
  },
  {
   "cell_type": "code",
   "execution_count": 17,
   "metadata": {
    "collapsed": false
   },
   "outputs": [
    {
     "data": {
      "text/plain": [
       "['FLUX_G_2',\n",
       " 'FLUX_R_2',\n",
       " 'FLUX_I_2',\n",
       " 'FLUX_Z_2',\n",
       " 'FLUX_Y_2',\n",
       " 'FLUX_J_2',\n",
       " 'FLUX_H_2',\n",
       " 'FLUXERR_G_2',\n",
       " 'FLUXERR_R_2',\n",
       " 'FLUXERR_I_2',\n",
       " 'FLUXERR_Z_2',\n",
       " 'FLUXERR_Y_2',\n",
       " 'FLUXERR_J_2',\n",
       " 'FLUXERR_H_2',\n",
       " 'test',\n",
       " 'a',\n",
       " 'b',\n",
       " 'c',\n",
       " 'd',\n",
       " 'e']"
      ]
     },
     "execution_count": 17,
     "metadata": {},
     "output_type": "execute_result"
    }
   ],
   "source": [
    "test_feature_2dim=np.zeros((dataset.features_N_rows,5))\n",
    "test_feature_2dim_names=['a','b','c','d','e']\n",
    "add_features(dataset,test_feature_2dim_names,test_feature_2dim)\n",
    "dataset.features_names"
   ]
  },
  {
   "cell_type": "markdown",
   "metadata": {
    "collapsed": true
   },
   "source": [
    "We can think to a more meaningful example, i.e. we want to add flux ratios. Lets start by defining the list of \n",
    "contigous bands, for the flux evaluation"
   ]
  },
  {
   "cell_type": "code",
   "execution_count": 18,
   "metadata": {
    "collapsed": true
   },
   "outputs": [],
   "source": [
    "flux_bands_list_2=['FLUX_G_2','FLUX_R_2','FLUX_I_2','FLUX_Z_2','FLUX_Y_2','FLUX_J_2','FLUX_VIS','FLUX_VIS','FLUX_VIS']\n",
    "flux_bands_list_1=['FLUX_R_2','FLUX_I_2','FLUX_Z_2','FLUX_Y_2','FLUX_J_2','FLUX_H_2','FLUX_Y_2','FLUX_J_2','FLUX_H_2']"
   ]
  },
  {
   "cell_type": "raw",
   "metadata": {},
   "source": [
    "we import the module where we have defined the FluxRatio class (:mod:`PrimalCore.phz_tools.photometry`)"
   ]
  },
  {
   "cell_type": "code",
   "execution_count": 19,
   "metadata": {
    "collapsed": false
   },
   "outputs": [],
   "source": [
    "from PrimalCore.phz_tools.photometry import FluxRatio"
   ]
  },
  {
   "cell_type": "code",
   "execution_count": 20,
   "metadata": {
    "collapsed": false
   },
   "outputs": [
    {
     "name": "stderr",
     "output_type": "stream",
     "text": [
      "/Users/orion/Work/Projects/Primal/PrimalCore/python/PrimalCore/phz_tools/photometry.py:110: RuntimeWarning: divide by zero encountered in true_divide\n",
      "  return features.get_feature_by_name(band_2)/features.get_feature_by_name(band_1)\n",
      "/Users/orion/Work/Projects/Primal/PrimalCore/python/PrimalCore/phz_tools/photometry.py:110: RuntimeWarning: invalid value encountered in true_divide\n",
      "  return features.get_feature_by_name(band_2)/features.get_feature_by_name(band_1)\n"
     ]
    }
   ],
   "source": [
    "for f1,f2 in zip(flux_bands_list_1,flux_bands_list_2):\n",
    "    f1_name=f1.split('_')[1]\n",
    "    f2_name=f2.split('_')[1]\n",
    "    if f1 in dataset.features_names and f2 in dataset.features_names:\n",
    "        f=FluxRatio('F_%s'%(f2_name+'-'+f1_name),f1,f2,features=dataset)\n",
    "        add_features(dataset,f.name,f.values)"
   ]
  },
  {
   "cell_type": "raw",
   "metadata": {},
   "source": [
    ".. note::\n",
    "    Note that in this example we skipped the selection  CLEAN=\" (FLAG_PHOT == 0) & (MASKED == 0) & (STAR == 0) & \n",
    "    (AGN == 0) & (reliable_S15==1)\", so we have entries with flux values that are zero, and this results in the \n",
    "    corresponding warning messge due to zero division"
   ]
  },
  {
   "cell_type": "code",
   "execution_count": 21,
   "metadata": {
    "collapsed": false
   },
   "outputs": [
    {
     "data": {
      "text/plain": [
       "['FLUX_G_2',\n",
       " 'FLUX_R_2',\n",
       " 'FLUX_I_2',\n",
       " 'FLUX_Z_2',\n",
       " 'FLUX_Y_2',\n",
       " 'FLUX_J_2',\n",
       " 'FLUX_H_2',\n",
       " 'FLUXERR_G_2',\n",
       " 'FLUXERR_R_2',\n",
       " 'FLUXERR_I_2',\n",
       " 'FLUXERR_Z_2',\n",
       " 'FLUXERR_Y_2',\n",
       " 'FLUXERR_J_2',\n",
       " 'FLUXERR_H_2',\n",
       " 'test',\n",
       " 'a',\n",
       " 'b',\n",
       " 'c',\n",
       " 'd',\n",
       " 'e',\n",
       " 'F_G-R',\n",
       " 'F_R-I',\n",
       " 'F_I-Z',\n",
       " 'F_Z-Y',\n",
       " 'F_Y-J',\n",
       " 'F_J-H']"
      ]
     },
     "execution_count": 21,
     "metadata": {},
     "output_type": "execute_result"
    }
   ],
   "source": [
    "dataset.features_names"
   ]
  },
  {
   "cell_type": "markdown",
   "metadata": {
    "collapsed": true
   },
   "source": [
    "## Operations on rows\n",
    "### filtering NaN/Inf with dataset_preprocessing functions"
   ]
  },
  {
   "cell_type": "raw",
   "metadata": {},
   "source": [
    "We can get rid of the NAN/INF rows using  the :func:`~PrimalCore.preprocessing.dataset_preprocessing.drop_nan_inf` function"
   ]
  },
  {
   "cell_type": "code",
   "execution_count": 22,
   "metadata": {
    "collapsed": false
   },
   "outputs": [],
   "source": [
    "from PrimalCore.preprocessing.dataset_preprocessing import drop_nan_inf"
   ]
  },
  {
   "cell_type": "code",
   "execution_count": 23,
   "metadata": {
    "collapsed": false
   },
   "outputs": [
    {
     "name": "stdout",
     "output_type": "stream",
     "text": [
      "| features cleaning for nan/inf\n",
      "| features initial Rows,Cols= 1000 26\n",
      "| features initial Rows,Cols= 1000 26\n",
      "| removing features []\n",
      "| features final Rows,Cols= 1000 26\n",
      "\n",
      "|removed columns []\n",
      "|removed rows 468\n",
      "| features cleaned Rows,Cols= 532 26\n",
      "\n"
     ]
    }
   ],
   "source": [
    "drop_nan_inf(dataset)"
   ]
  },
  {
   "cell_type": "code",
   "execution_count": null,
   "metadata": {
    "collapsed": false
   },
   "outputs": [],
   "source": []
  }
 ],
 "metadata": {
  "kernelspec": {
   "display_name": "Python 2",
   "language": "python",
   "name": "python2"
  },
  "language_info": {
   "codemirror_mode": {
    "name": "ipython",
    "version": 2
   },
   "file_extension": ".py",
   "mimetype": "text/x-python",
   "name": "python",
   "nbconvert_exporter": "python",
   "pygments_lexer": "ipython2",
   "version": "2.7.11"
  }
 },
 "nbformat": 4,
 "nbformat_minor": 0
}
