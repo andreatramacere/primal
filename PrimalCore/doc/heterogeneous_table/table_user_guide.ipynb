{
 "cells": [
  {
   "cell_type": "raw",
   "metadata": {},
   "source": [
    ".. _Table_user_guide:"
   ]
  },
  {
   "cell_type": "markdown",
   "metadata": {},
   "source": [
    "# Table user guide"
   ]
  },
  {
   "cell_type": "markdown",
   "metadata": {},
   "source": [
    "## Building a catalog, from a FITS file,  using the Table class "
   ]
  },
  {
   "cell_type": "markdown",
   "metadata": {},
   "source": [
    "### Aux files setup"
   ]
  },
  {
   "cell_type": "markdown",
   "metadata": {},
   "source": [
    "We use the Elements ``getPathFromEnvVariable`` function, that is in charge to determine the proper file path."
   ]
  },
  {
   "cell_type": "code",
   "execution_count": 2,
   "metadata": {
    "collapsed": true
   },
   "outputs": [],
   "source": [
    "from ElementsKernel.Path import getPathFromEnvVariable"
   ]
  },
  {
   "cell_type": "raw",
   "metadata": {},
   "source": [
    "and we set the path to catalog file path"
   ]
  },
  {
   "cell_type": "code",
   "execution_count": 3,
   "metadata": {
    "collapsed": false
   },
   "outputs": [
    {
     "name": "stdout",
     "output_type": "stream",
     "text": [
      "/Users/orion/Work/Projects/Primal/PrimalCore/auxdir/PrimalCore/test_table.fits\n"
     ]
    }
   ],
   "source": [
    "ph_catalog=getPathFromEnvVariable('PrimalCore/test_table.fits','ELEMENTS_AUX_PATH')\n",
    "print ph_catalog"
   ]
  },
  {
   "cell_type": "raw",
   "metadata": {},
   "source": [
    "As yuo can see, the file path has been safely and correctly determined by ``getPathFromEnvVariable``."
   ]
  },
  {
   "cell_type": "raw",
   "metadata": {},
   "source": [
    "We  import  the :class:`Table` class, that we will use for the catalog construction. This class is able to handle heterogeneous data, by using numpy recarray and implements also method to handle the data row-wise and column wise (see :class:`PrimalCore.heterogeneous_table.table.Table` and :mod:`PrimalCore.heterogeneous_table.table` for more details) "
   ]
  },
  {
   "cell_type": "code",
   "execution_count": 4,
   "metadata": {
    "collapsed": false
   },
   "outputs": [],
   "source": [
    "from PrimalCore.heterogeneous_table.table import Table"
   ]
  },
  {
   "cell_type": "markdown",
   "metadata": {},
   "source": [
    "### Table construcion using the from_fits_file class method"
   ]
  },
  {
   "cell_type": "raw",
   "metadata": {},
   "source": [
    "Finally, we can  build our catalog usinfg the  :class:`Table` class and the classmetod :func:`Table.from_fits_file`"
   ]
  },
  {
   "cell_type": "code",
   "execution_count": 7,
   "metadata": {
    "collapsed": false
   },
   "outputs": [
    {
     "name": "stdout",
     "output_type": "stream",
     "text": [
      "| input data built\n",
      "| data Rows,Cols 1000 124\n"
     ]
    }
   ],
   "source": [
    "catalog=Table.from_fits_file(ph_catalog,fits_ext=0)"
   ]
  },
  {
   "cell_type": "raw",
   "metadata": {},
   "source": [
    ".. currentmodule:: PrimalCore.heterogeneous_table.table\n",
    "\n",
    "We provide a simple workflow to build a catalog using the class :class:`Table` (see for full API the module :mod:`PrimalCore.heterogeneous_table.table`)\n",
    "\n",
    ".. contents:: :local:\n",
    "\n",
    ".. toctree::\n"
   ]
  },
  {
   "cell_type": "code",
   "execution_count": 8,
   "metadata": {
    "collapsed": false,
    "scrolled": true
   },
   "outputs": [
    {
     "name": "stdout",
     "output_type": "stream",
     "text": [
      "1000\n"
     ]
    }
   ],
   "source": [
    "print catalog.N_rows"
   ]
  },
  {
   "cell_type": "markdown",
   "metadata": {},
   "source": [
    "### Table construcion sing  the io.build_table_from_fits_file factory"
   ]
  },
  {
   "cell_type": "raw",
   "metadata": {},
   "source": [
    "as alternative we can use the :func:`PrimalCore.heterogeneous_table.io.build_table_from_fits_file` factory"
   ]
  },
  {
   "cell_type": "code",
   "execution_count": 9,
   "metadata": {
    "collapsed": false
   },
   "outputs": [
    {
     "name": "stdout",
     "output_type": "stream",
     "text": [
      "| input data built\n",
      "| data Rows,Cols 1000 124\n"
     ]
    }
   ],
   "source": [
    "from PrimalCore.heterogeneous_table.io import build_table_from_fits_file\n",
    "catalog=build_table_from_fits_file(ph_catalog,fits_ext=1)"
   ]
  },
  {
   "cell_type": "markdown",
   "metadata": {},
   "source": [
    "## Modifying the Table catalog"
   ]
  },
  {
   "cell_type": "markdown",
   "metadata": {},
   "source": [
    "### colums operations"
   ]
  },
  {
   "cell_type": "raw",
   "metadata": {},
   "source": [
    "We select only some columns with the :func:`Table.keep_columns`, and regualar expression syntax\n"
   ]
  },
  {
   "cell_type": "markdown",
   "metadata": {},
   "source": [
    "#### keep_columns"
   ]
  },
  {
   "cell_type": "code",
   "execution_count": 10,
   "metadata": {
    "collapsed": false,
    "scrolled": true
   },
   "outputs": [
    {
     "data": {
      "text/plain": [
       "['FLUX_G_1',\n",
       " 'FLUX_G_2',\n",
       " 'FLUX_G_3',\n",
       " 'FLAG_PHOT',\n",
       " 'MAG_G_1',\n",
       " 'MAG_G_2',\n",
       " 'MAG_G_3',\n",
       " 'MAGERR_G_1',\n",
       " 'MAGERR_G_2',\n",
       " 'MAGERR_G_3',\n",
       " 'MASKED',\n",
       " 'reliable_S15',\n",
       " 'STAR',\n",
       " 'AGN',\n",
       " '__original_entry_ID__']"
      ]
     },
     "execution_count": 10,
     "metadata": {},
     "output_type": "execute_result"
    }
   ],
   "source": [
    "catalog.keep_columns(['FLUX_G*','MAG_G_*','MAGERR_G*','reliable_S15','STAR','AGN','MASKED','FLAG_PHOT'],regex=True)\n",
    "catalog.column_names"
   ]
  },
  {
   "cell_type": "markdown",
   "metadata": {},
   "source": [
    "#### drop_columns"
   ]
  },
  {
   "cell_type": "raw",
   "metadata": {},
   "source": [
    "We remove only some columns with the  method :func:`Table.drop_columns`, and regualar expression syntax\n"
   ]
  },
  {
   "cell_type": "code",
   "execution_count": 11,
   "metadata": {
    "collapsed": false,
    "scrolled": true
   },
   "outputs": [
    {
     "data": {
      "text/plain": [
       "['FLUX_G_1',\n",
       " 'FLUX_G_2',\n",
       " 'FLUX_G_3',\n",
       " 'FLAG_PHOT',\n",
       " 'MAG_G_1',\n",
       " 'MAG_G_2',\n",
       " 'MAG_G_3',\n",
       " 'MASKED',\n",
       " 'reliable_S15',\n",
       " 'STAR',\n",
       " 'AGN',\n",
       " '__original_entry_ID__']"
      ]
     },
     "execution_count": 11,
     "metadata": {},
     "output_type": "execute_result"
    }
   ],
   "source": [
    "catalog.drop_columns(['MAGERR*'],regex=True)\n",
    "catalog.column_names"
   ]
  },
  {
   "cell_type": "markdown",
   "metadata": {},
   "source": [
    "#### add_columns"
   ]
  },
  {
   "cell_type": "raw",
   "metadata": {},
   "source": [
    "we add a new column using the  :func:`Table.add_columns` method"
   ]
  },
  {
   "cell_type": "code",
   "execution_count": 12,
   "metadata": {
    "collapsed": false,
    "scrolled": true
   },
   "outputs": [
    {
     "data": {
      "text/plain": [
       "['FLUX_G_1',\n",
       " 'FLUX_G_2',\n",
       " 'FLUX_G_3',\n",
       " 'FLAG_PHOT',\n",
       " 'MAG_G_1',\n",
       " 'MAG_G_2',\n",
       " 'MAG_G_3',\n",
       " 'MASKED',\n",
       " 'reliable_S15',\n",
       " 'STAR',\n",
       " 'AGN',\n",
       " '__original_entry_ID__',\n",
       " 'x',\n",
       " 'y']"
      ]
     },
     "execution_count": 12,
     "metadata": {},
     "output_type": "execute_result"
    }
   ],
   "source": [
    "x=np.arange(catalog.N_rows)\n",
    "\n",
    "catalog.add_columns(['x','y'],[x,x])\n",
    "catalog.column_names"
   ]
  },
  {
   "cell_type": "markdown",
   "metadata": {},
   "source": [
    "### rows operations\n",
    "\n",
    "We show how to perform operation on the rows."
   ]
  },
  {
   "cell_type": "markdown",
   "metadata": {},
   "source": [
    "\n",
    "#### drop_rows"
   ]
  },
  {
   "cell_type": "raw",
   "metadata": {},
   "source": [
    "we drop some rows using a boolean mask with the :func:`Table.drop_rows` method"
   ]
  },
  {
   "cell_type": "code",
   "execution_count": 13,
   "metadata": {
    "collapsed": false
   },
   "outputs": [
    {
     "name": "stdout",
     "output_type": "stream",
     "text": [
      "| filtering data rows\n",
      "| data initial Rows = 1000\n",
      "| data filtered initial Rows = 900\n",
      "\n"
     ]
    }
   ],
   "source": [
    "msk=np.zeros(catalog.N_rows,dtype=np.bool)\n",
    "msk[0:100]=True\n",
    "\n",
    "catalog.drop_rows(msk)"
   ]
  },
  {
   "cell_type": "code",
   "execution_count": 14,
   "metadata": {
    "collapsed": false
   },
   "outputs": [
    {
     "name": "stdout",
     "output_type": "stream",
     "text": [
      "900\n"
     ]
    }
   ],
   "source": [
    "print catalog.N_rows"
   ]
  },
  {
   "cell_type": "code",
   "execution_count": 15,
   "metadata": {
    "collapsed": false
   },
   "outputs": [
    {
     "name": "stdout",
     "output_type": "stream",
     "text": [
      "100\n"
     ]
    }
   ],
   "source": [
    "print catalog.original_entry_ID.min()"
   ]
  },
  {
   "cell_type": "code",
   "execution_count": 16,
   "metadata": {
    "collapsed": false
   },
   "outputs": [
    {
     "data": {
      "text/plain": [
       "999"
      ]
     },
     "execution_count": 16,
     "metadata": {},
     "output_type": "execute_result"
    }
   ],
   "source": [
    "catalog.original_entry_ID.max()"
   ]
  },
  {
   "cell_type": "raw",
   "metadata": {},
   "source": [
    ".. note::\n",
    "    as you see the original_entry_ID is correctly starting from 100 because we dropped elements from ID=0 to ID=99"
   ]
  },
  {
   "cell_type": "markdown",
   "metadata": {},
   "source": [
    "#### keep_row"
   ]
  },
  {
   "cell_type": "raw",
   "metadata": {},
   "source": [
    "We can select rows using a boolean mask with the :func:`Table.keep_rows` method. This method will keep only the rows corresponind to mask==True.\n",
    "For example imagine that you want  to filter the catalog keeping only the rows respecting  the condition for a clean cut: ``CLEAN=\" (FLAG_PHOT == 0) & (MASKED == 0) & (STAR == 0) & (AGN == 0) & (reliable_S15==1)\"\n",
    "this can be obtained by:``"
   ]
  },
  {
   "cell_type": "code",
   "execution_count": 17,
   "metadata": {
    "collapsed": false
   },
   "outputs": [
    {
     "name": "stdout",
     "output_type": "stream",
     "text": [
      "| filtering data rows\n",
      "| data initial Rows,Cols= (900,)\n",
      "| data filtered Rows,Cols= (3,)\n",
      "\n"
     ]
    }
   ],
   "source": [
    "CLEAN= (catalog.data['FLAG_PHOT']==0)*(catalog.data['MASKED']==0)*(catalog.data['STAR']==0)*(catalog.data['AGN']==0)\n",
    "CLEAN*= catalog.data['reliable_S15']==1\n",
    "catalog.keep_rows(CLEAN)"
   ]
  },
  {
   "cell_type": "markdown",
   "metadata": {},
   "source": [
    "#### add_rows"
   ]
  },
  {
   "cell_type": "raw",
   "metadata": {},
   "source": [
    "we add rows to a table, using the :func:`Table.add_rows` method"
   ]
  },
  {
   "cell_type": "markdown",
   "metadata": {},
   "source": [
    "we have to provide a values_array that as to be 2dim numpy array, or a rec_array, or structured array"
   ]
  },
  {
   "cell_type": "code",
   "execution_count": 18,
   "metadata": {
    "collapsed": false
   },
   "outputs": [],
   "source": [
    "new_row=np.arange(catalog.N_cols).reshape(1,catalog.N_cols)\n",
    "catalog.add_rows(new_row)"
   ]
  },
  {
   "cell_type": "code",
   "execution_count": 19,
   "metadata": {
    "collapsed": false
   },
   "outputs": [
    {
     "name": "stdout",
     "output_type": "stream",
     "text": [
      "4\n"
     ]
    }
   ],
   "source": [
    "print catalog.N_rows"
   ]
  },
  {
   "cell_type": "code",
   "execution_count": 20,
   "metadata": {
    "collapsed": false
   },
   "outputs": [
    {
     "name": "stdout",
     "output_type": "stream",
     "text": [
      "[288 515 711  11]\n"
     ]
    }
   ],
   "source": [
    "print catalog.original_entry_ID[-5:]"
   ]
  },
  {
   "cell_type": "raw",
   "metadata": {},
   "source": [
    ".. warning::\n",
    "\n",
    "    **adding rows migth impact the original_entry_ID**, indeed we  note that the last original_entry_ID is equal to 6,     i.e. the last element of the row that we added"
   ]
  },
  {
   "cell_type": "markdown",
   "metadata": {},
   "source": [
    "## merging  catalogs\n",
    "\n",
    "In the following we show how merge two catalogs"
   ]
  },
  {
   "cell_type": "raw",
   "metadata": {},
   "source": [
    "using the :func:`PrimalCore.heterogeneous_table.table_handler.tables_merge_rows`"
   ]
  },
  {
   "cell_type": "code",
   "execution_count": 21,
   "metadata": {
    "collapsed": true
   },
   "outputs": [],
   "source": [
    "from PrimalCore.heterogeneous_table.table_handler import tables_merge_rows"
   ]
  },
  {
   "cell_type": "code",
   "execution_count": 22,
   "metadata": {
    "collapsed": false
   },
   "outputs": [
    {
     "name": "stdout",
     "output_type": "stream",
     "text": [
      "| input data built\n",
      "| data Rows,Cols 8 14\n"
     ]
    }
   ],
   "source": [
    "new_cat=tables_merge_rows(catalog,catalog)"
   ]
  },
  {
   "cell_type": "code",
   "execution_count": 23,
   "metadata": {
    "collapsed": false,
    "scrolled": true
   },
   "outputs": [
    {
     "name": "stdout",
     "output_type": "stream",
     "text": [
      "[288 515 711  11 288 515 711  11]\n"
     ]
    }
   ],
   "source": [
    "print new_cat.original_entry_ID"
   ]
  },
  {
   "cell_type": "code",
   "execution_count": 24,
   "metadata": {
    "collapsed": false
   },
   "outputs": [
    {
     "name": "stdout",
     "output_type": "stream",
     "text": [
      "8\n"
     ]
    }
   ],
   "source": [
    "print new_cat.N_rows"
   ]
  },
  {
   "cell_type": "raw",
   "metadata": {},
   "source": [
    ".. warning::\n",
    "\n",
    "    As in the case of **adding rows**, this operation  impact the original_entry_ID."
   ]
  },
  {
   "cell_type": "code",
   "execution_count": null,
   "metadata": {
    "collapsed": true
   },
   "outputs": [],
   "source": []
  }
 ],
 "metadata": {
  "kernelspec": {
   "display_name": "Python 2",
   "language": "python",
   "name": "python2"
  },
  "language_info": {
   "codemirror_mode": {
    "name": "ipython",
    "version": 2
   },
   "file_extension": ".py",
   "mimetype": "text/x-python",
   "name": "python",
   "nbconvert_exporter": "python",
   "pygments_lexer": "ipython2",
   "version": "2.7.11"
  }
 },
 "nbformat": 4,
 "nbformat_minor": 0
}
